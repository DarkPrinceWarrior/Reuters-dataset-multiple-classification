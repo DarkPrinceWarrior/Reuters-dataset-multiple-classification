{
  "nbformat": 4,
  "nbformat_minor": 0,
  "metadata": {
    "colab": {
      "name": "Reuters_predict.ipynb",
      "provenance": [],
      "collapsed_sections": [],
      "authorship_tag": "ABX9TyN/8Ob1xx57e3G5rwVr2uOj",
      "include_colab_link": true
    },
    "kernelspec": {
      "name": "python3",
      "display_name": "Python 3"
    },
    "language_info": {
      "name": "python"
    }
  },
  "cells": [
    {
      "cell_type": "markdown",
      "metadata": {
        "id": "view-in-github",
        "colab_type": "text"
      },
      "source": [
        "<a href=\"https://colab.research.google.com/github/DarkPrinceWarrior/Reuters-dataset-multiple-classification/blob/main/Reuters_predict.ipynb\" target=\"_parent\"><img src=\"https://colab.research.google.com/assets/colab-badge.svg\" alt=\"Open In Colab\"/></a>"
      ]
    },
    {
      "cell_type": "code",
      "metadata": {
        "id": "5WRJZh-ICfFZ"
      },
      "source": [
        "from keras.datasets import reuters"
      ],
      "execution_count": 10,
      "outputs": []
    },
    {
      "cell_type": "code",
      "metadata": {
        "id": "C4o1b1rZJqO8"
      },
      "source": [
        "(train_data, train_labels),(test_data, test_labels) = reuters.load_data(num_words=10000)"
      ],
      "execution_count": 11,
      "outputs": []
    },
    {
      "cell_type": "code",
      "metadata": {
        "id": "i-iWoeQLKJkf"
      },
      "source": [
        "import numpy as np\n",
        "\n",
        "def data_vectorize(sequence, dimension = 10000):\n",
        "  results = np.zeros((len(sequence),dimension))\n",
        "  for index, sequence in enumerate(sequence):\n",
        "    results[index,sequence] = 1\n",
        "  return results\n",
        "\n",
        "\n",
        "x_train = data_vectorize(train_data)\n",
        "x_test = data_vectorize(test_data)"
      ],
      "execution_count": 12,
      "outputs": []
    },
    {
      "cell_type": "code",
      "metadata": {
        "id": "Q-PRt6XMK7by"
      },
      "source": [
        "def label_vectorize(label_sequence, dimension = 46):\n",
        "  results = np.zeros((len(label_sequence),dimension))\n",
        "  for index, label in enumerate(label_sequence):\n",
        "    results[index,label] = 1\n",
        "  return results\n",
        "\n",
        "\n",
        "one_hot_train_labels =label_vectorize(train_labels)\n",
        "one_hot_test_labels = label_vectorize(test_labels)"
      ],
      "execution_count": 13,
      "outputs": []
    },
    {
      "cell_type": "code",
      "metadata": {
        "id": "6q7vtTKEQnxG"
      },
      "source": [
        "# the same way but with embeded function in Keras\n",
        "# from keras.utils.np_utils import to_categorical\n",
        "# one_hot_train_labels = to_categorical(train_labels)\n",
        "# one_hot_test_labels = to_categorical(test_labels)\n",
        "\n",
        "# another way to convert labels\n",
        "# y_train = np.array(train_labels)\n",
        "# y_test = np.array(test_labels)\n",
        "# in this way when compiling the model with integers labels\n",
        "# should be used loss function = \"sparse_categorical_crossentropy\" \n",
        "\n"
      ],
      "execution_count": null,
      "outputs": []
    },
    {
      "cell_type": "code",
      "metadata": {
        "id": "9ikBYlJmRFMC"
      },
      "source": [
        "from keras import models \n",
        "from keras import layers\n",
        "\n",
        "model = models.Sequential()\n",
        "model.add(layers.Dense(64, activation=\"relu\", input_shape=(10000,)))\n",
        "model.add(layers.Dense(64,activation=\"relu\"))\n",
        "model.add(layers.Dense(46,activation=\"softmax\"))\n"
      ],
      "execution_count": 9,
      "outputs": []
    },
    {
      "cell_type": "code",
      "metadata": {
        "id": "JmArWUAbgK0W"
      },
      "source": [
        "model.compile(\n",
        "    optimizer = \"rmsprop\",\n",
        "    loss = \"categorical_crossentropy\",\n",
        "    metrics = ['accuracy'])\n"
      ],
      "execution_count": 14,
      "outputs": []
    },
    {
      "cell_type": "code",
      "metadata": {
        "id": "Yj_SOPufhJQx"
      },
      "source": [
        "x_val = x_train[:1000]\n",
        "partial_x_train = x_train[1000:]\n",
        "\n",
        "y_val = one_hot_train_labels[:1000]\n",
        "partial_y_train = one_hot_train_labels[1000:]\n"
      ],
      "execution_count": 15,
      "outputs": []
    },
    {
      "cell_type": "code",
      "metadata": {
        "colab": {
          "base_uri": "https://localhost:8080/"
        },
        "id": "YYVHsgf3jyHu",
        "outputId": "7f5147cf-593d-42fd-af3b-9872a9ed687c"
      },
      "source": [
        "history = model.fit(\n",
        "    partial_x_train,\n",
        "    partial_y_train,\n",
        "    epochs = 20,\n",
        "    batch_size = 512,\n",
        "    validation_data=(x_val,y_val) )"
      ],
      "execution_count": 18,
      "outputs": [
        {
          "output_type": "stream",
          "name": "stdout",
          "text": [
            "Epoch 1/20\n",
            "16/16 [==============================] - 2s 70ms/step - loss: 2.6323 - accuracy: 0.4881 - val_loss: 1.7571 - val_accuracy: 0.6000\n",
            "Epoch 2/20\n",
            "16/16 [==============================] - 1s 51ms/step - loss: 1.4387 - accuracy: 0.6918 - val_loss: 1.3033 - val_accuracy: 0.7070\n",
            "Epoch 3/20\n",
            "16/16 [==============================] - 1s 50ms/step - loss: 1.0563 - accuracy: 0.7729 - val_loss: 1.1460 - val_accuracy: 0.7440\n",
            "Epoch 4/20\n",
            "16/16 [==============================] - 1s 49ms/step - loss: 0.8304 - accuracy: 0.8236 - val_loss: 1.0407 - val_accuracy: 0.7790\n",
            "Epoch 5/20\n",
            "16/16 [==============================] - 1s 49ms/step - loss: 0.6608 - accuracy: 0.8603 - val_loss: 0.9558 - val_accuracy: 0.8020\n",
            "Epoch 6/20\n",
            "16/16 [==============================] - 1s 50ms/step - loss: 0.5282 - accuracy: 0.8874 - val_loss: 0.9262 - val_accuracy: 0.8070\n",
            "Epoch 7/20\n",
            "16/16 [==============================] - 1s 49ms/step - loss: 0.4246 - accuracy: 0.9109 - val_loss: 0.8867 - val_accuracy: 0.8150\n",
            "Epoch 8/20\n",
            "16/16 [==============================] - 1s 50ms/step - loss: 0.3445 - accuracy: 0.9272 - val_loss: 0.9109 - val_accuracy: 0.8070\n",
            "Epoch 9/20\n",
            "16/16 [==============================] - 1s 49ms/step - loss: 0.2876 - accuracy: 0.9375 - val_loss: 0.8864 - val_accuracy: 0.8130\n",
            "Epoch 10/20\n",
            "16/16 [==============================] - 1s 51ms/step - loss: 0.2475 - accuracy: 0.9436 - val_loss: 0.9100 - val_accuracy: 0.8090\n",
            "Epoch 11/20\n",
            "16/16 [==============================] - 1s 50ms/step - loss: 0.2061 - accuracy: 0.9491 - val_loss: 0.9140 - val_accuracy: 0.8130\n",
            "Epoch 12/20\n",
            "16/16 [==============================] - 1s 50ms/step - loss: 0.1809 - accuracy: 0.9525 - val_loss: 0.9529 - val_accuracy: 0.7990\n",
            "Epoch 13/20\n",
            "16/16 [==============================] - 1s 50ms/step - loss: 0.1659 - accuracy: 0.9538 - val_loss: 0.9303 - val_accuracy: 0.8150\n",
            "Epoch 14/20\n",
            "16/16 [==============================] - 1s 49ms/step - loss: 0.1511 - accuracy: 0.9538 - val_loss: 1.0208 - val_accuracy: 0.7890\n",
            "Epoch 15/20\n",
            "16/16 [==============================] - 1s 50ms/step - loss: 0.1399 - accuracy: 0.9557 - val_loss: 1.0431 - val_accuracy: 0.7950\n",
            "Epoch 16/20\n",
            "16/16 [==============================] - 1s 49ms/step - loss: 0.1293 - accuracy: 0.9565 - val_loss: 0.9898 - val_accuracy: 0.8080\n",
            "Epoch 17/20\n",
            "16/16 [==============================] - 1s 50ms/step - loss: 0.1311 - accuracy: 0.9557 - val_loss: 1.0059 - val_accuracy: 0.8050\n",
            "Epoch 18/20\n",
            "16/16 [==============================] - 1s 50ms/step - loss: 0.1191 - accuracy: 0.9583 - val_loss: 1.0556 - val_accuracy: 0.8110\n",
            "Epoch 19/20\n",
            "16/16 [==============================] - 1s 50ms/step - loss: 0.1111 - accuracy: 0.9572 - val_loss: 1.0854 - val_accuracy: 0.7960\n",
            "Epoch 20/20\n",
            "16/16 [==============================] - 1s 49ms/step - loss: 0.1114 - accuracy: 0.9589 - val_loss: 1.0238 - val_accuracy: 0.8110\n"
          ]
        }
      ]
    },
    {
      "cell_type": "code",
      "metadata": {
        "id": "5QkSFPn8kRW6"
      },
      "source": [
        "model = models.Sequential()\n",
        "model.add(layers.Dense(64, activation=\"relu\", input_shape=(10000,)))\n",
        "model.add(layers.Dense(64,activation=\"relu\"))\n",
        "model.add(layers.Dense(46,activation=\"softmax\"))\n",
        "\n"
      ],
      "execution_count": 19,
      "outputs": []
    },
    {
      "cell_type": "code",
      "metadata": {
        "id": "W2M5_FKTlJij"
      },
      "source": [
        "model.compile(\n",
        "    optimizer = \"rmsprop\",\n",
        "    loss = \"categorical_crossentropy\",\n",
        "    metrics = ['accuracy'])"
      ],
      "execution_count": 20,
      "outputs": []
    },
    {
      "cell_type": "code",
      "metadata": {
        "colab": {
          "base_uri": "https://localhost:8080/"
        },
        "id": "YKXE4JK7lNEP",
        "outputId": "d619458f-5553-4b07-9978-da315aebf142"
      },
      "source": [
        "model.fit(\n",
        "    partial_x_train,\n",
        "    partial_y_train,\n",
        "    epochs = 9,\n",
        "    batch_size = 512,\n",
        "    validation_data=(x_val,y_val) )\n"
      ],
      "execution_count": 21,
      "outputs": [
        {
          "output_type": "stream",
          "name": "stdout",
          "text": [
            "Epoch 1/9\n",
            "16/16 [==============================] - 2s 66ms/step - loss: 2.7093 - accuracy: 0.4965 - val_loss: 1.8172 - val_accuracy: 0.6180\n",
            "Epoch 2/9\n",
            "16/16 [==============================] - 1s 49ms/step - loss: 1.4754 - accuracy: 0.7066 - val_loss: 1.3370 - val_accuracy: 0.7130\n",
            "Epoch 3/9\n",
            "16/16 [==============================] - 1s 48ms/step - loss: 1.0771 - accuracy: 0.7780 - val_loss: 1.1562 - val_accuracy: 0.7510\n",
            "Epoch 4/9\n",
            "16/16 [==============================] - 1s 47ms/step - loss: 0.8436 - accuracy: 0.8218 - val_loss: 1.0388 - val_accuracy: 0.7810\n",
            "Epoch 5/9\n",
            "16/16 [==============================] - 1s 48ms/step - loss: 0.6661 - accuracy: 0.8641 - val_loss: 0.9659 - val_accuracy: 0.8040\n",
            "Epoch 6/9\n",
            "16/16 [==============================] - 1s 48ms/step - loss: 0.5295 - accuracy: 0.8887 - val_loss: 0.9226 - val_accuracy: 0.8110\n",
            "Epoch 7/9\n",
            "16/16 [==============================] - 1s 49ms/step - loss: 0.4243 - accuracy: 0.9126 - val_loss: 0.8978 - val_accuracy: 0.8170\n",
            "Epoch 8/9\n",
            "16/16 [==============================] - 1s 47ms/step - loss: 0.3460 - accuracy: 0.9290 - val_loss: 0.9210 - val_accuracy: 0.7980\n",
            "Epoch 9/9\n",
            "16/16 [==============================] - 1s 47ms/step - loss: 0.2835 - accuracy: 0.9376 - val_loss: 0.9574 - val_accuracy: 0.7980\n"
          ]
        },
        {
          "output_type": "execute_result",
          "data": {
            "text/plain": [
              "<keras.callbacks.History at 0x7f881b468cd0>"
            ]
          },
          "metadata": {},
          "execution_count": 21
        }
      ]
    },
    {
      "cell_type": "code",
      "metadata": {
        "colab": {
          "base_uri": "https://localhost:8080/"
        },
        "id": "kYIC7qjelgTc",
        "outputId": "bca3e9b6-54cf-40dc-99a8-0b79b3aee6c8"
      },
      "source": [
        "results = model.evaluate(x_test,one_hot_test_labels)"
      ],
      "execution_count": 22,
      "outputs": [
        {
          "output_type": "stream",
          "name": "stdout",
          "text": [
            "71/71 [==============================] - 0s 3ms/step - loss: 1.0144 - accuracy: 0.7827\n"
          ]
        }
      ]
    },
    {
      "cell_type": "code",
      "metadata": {
        "colab": {
          "base_uri": "https://localhost:8080/"
        },
        "id": "q5CxSqYtm4wW",
        "outputId": "14f0722d-b36c-41c6-b828-9b4e7b91fa4a"
      },
      "source": [
        "# random probability prediction of right classified labels\n",
        "import copy \n",
        "\n",
        "print(test_labels[:5])\n",
        "test_labels_copy = copy.copy(test_labels)\n",
        "np.random.shuffle(test_labels_copy)\n",
        "print(test_labels[:5])\n",
        "print(test_labels_copy[:5])\n",
        "print(np.array(test_labels[:5]) == np.array(test_labels_copy[:5]))\n"
      ],
      "execution_count": 32,
      "outputs": [
        {
          "output_type": "stream",
          "name": "stdout",
          "text": [
            "[19  3 13 20  3]\n",
            "[19  3 13 20  3]\n",
            "[ 4  3  3  3 11]\n",
            "[False  True False False False]\n"
          ]
        }
      ]
    },
    {
      "cell_type": "code",
      "metadata": {
        "id": "sqqERn2mtwaP"
      },
      "source": [
        "predictions = model.predict(x_test)"
      ],
      "execution_count": 33,
      "outputs": []
    },
    {
      "cell_type": "code",
      "metadata": {
        "colab": {
          "base_uri": "https://localhost:8080/"
        },
        "id": "SwGQhdI3uQ2B",
        "outputId": "45a00a2a-274a-4cae-dc31-df08138a3952"
      },
      "source": [
        "# the probability of topic possesed to specific news\n",
        "a = 0\n",
        "index1 = 0\n",
        "for index,value in enumerate(predictions[1]):\n",
        "  if a < value:\n",
        "    a = value\n",
        "    index1 = index\n",
        "  if index == len(predictions[1])-1:\n",
        "    print(index1)\n",
        "\n",
        "# another variant\n",
        "print(np.argmax(predictions[1]))"
      ],
      "execution_count": 44,
      "outputs": [
        {
          "output_type": "stream",
          "name": "stdout",
          "text": [
            "10\n",
            "10\n"
          ]
        }
      ]
    },
    {
      "cell_type": "code",
      "metadata": {
        "id": "dJYTjIf1wHzK"
      },
      "source": [
        ""
      ],
      "execution_count": null,
      "outputs": []
    }
  ]
}